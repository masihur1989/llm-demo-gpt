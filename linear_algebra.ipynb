{
 "cells": [
  {
   "cell_type": "code",
   "execution_count": 1,
   "metadata": {},
   "outputs": [],
   "source": [
    "from typing import List\n",
    "Vector = List[float]\n",
    "height_weight_age = [70, 170, 40]\n",
    "grades = [95, 80, 75, 62]"
   ]
  },
  {
   "cell_type": "code",
   "execution_count": 5,
   "metadata": {},
   "outputs": [
    {
     "name": "stdout",
     "output_type": "stream",
     "text": [
      "[5, 7, 9]\n"
     ]
    }
   ],
   "source": [
    "def add(v: Vector, w: Vector) -> Vector:\n",
    "    \"\"\" Adds corresponding vector elements \"\"\"\n",
    "    assert len(v) == len(w) # vectors must be of the same length\n",
    "    return [v_i + w_i for v_i, w_i in zip(v, w)]\n",
    "\n",
    "v_sum = add([1, 2, 3], [4, 5, 6])\n",
    "print(v_sum)\n",
    "assert v_sum == [5, 7, 9]"
   ]
  },
  {
   "cell_type": "code",
   "execution_count": 7,
   "metadata": {},
   "outputs": [
    {
     "name": "stdout",
     "output_type": "stream",
     "text": [
      "[1, 2, 3]\n"
     ]
    }
   ],
   "source": [
    "def substract(v: Vector, w: Vector) -> Vector:\n",
    "    \"\"\" substracts corresponding elements \"\"\"\n",
    "    assert len(v) == len(w) # vectors must be of the same length\n",
    "    return [v_i - w_i for v_i, w_i in zip(v, w)]\n",
    "\n",
    "v_sub = substract([5, 7, 9], [4, 5, 6])\n",
    "print(v_sub)\n",
    "assert v_sub == [1, 2, 3]"
   ]
  },
  {
   "cell_type": "code",
   "execution_count": 10,
   "metadata": {},
   "outputs": [
    {
     "name": "stdout",
     "output_type": "stream",
     "text": [
      "[16, 20]\n"
     ]
    }
   ],
   "source": [
    "def add_vectors(vectors: List[Vector]) -> Vector:\n",
    "    \"\"\" Sum all corresponding elements \"\"\"\n",
    "    # Check the vectors is not empty\n",
    "    assert vectors, \"no vectors provided\"\n",
    "    # Check the vectors are of same size\n",
    "    num_elements = len(vectors[0])\n",
    "    assert all(len(v) == num_elements for v in vectors), \"different sizes!\"\n",
    "    # the i-th element of the result is the sum of every vector[i]\n",
    "    return [sum(vector[i] for vector in vectors) for i in range(num_elements)]\n",
    "\n",
    "s = add_vectors([[1,2], [3,4], [5,6], [7,8]])\n",
    "print(s)\n",
    "assert s == [16, 20]"
   ]
  },
  {
   "cell_type": "code",
   "execution_count": 11,
   "metadata": {},
   "outputs": [
    {
     "name": "stdout",
     "output_type": "stream",
     "text": [
      "[6, 12]\n"
     ]
    }
   ],
   "source": [
    "def scalar_multiply(c: float, v: Vector) -> Vector:\n",
    "    \"\"\" Multiplies every element \"\"\"\n",
    "    return [c * v_i for v_i in v]\n",
    "\n",
    "m = scalar_multiply(3, [2,4])\n",
    "print(m)"
   ]
  },
  {
   "cell_type": "code",
   "execution_count": 13,
   "metadata": {},
   "outputs": [
    {
     "name": "stdout",
     "output_type": "stream",
     "text": [
      "[3.0, 4.0]\n"
     ]
    }
   ],
   "source": [
    "def vector_mean(vectors: List[Vector]) -> Vector:\n",
    "    \"\"\"Computes element wise average \"\"\"\n",
    "    n = len(vectors)\n",
    "    return scalar_multiply(1/n, add_vectors(vectors))\n",
    "\n",
    "avg = vector_mean([[1,2],[3,4],[5,6]])\n",
    "print(avg)\n",
    "assert avg == [3,4]"
   ]
  }
 ],
 "metadata": {
  "kernelspec": {
   "display_name": "cuda-gpt-kernel",
   "language": "python",
   "name": "cude"
  },
  "language_info": {
   "codemirror_mode": {
    "name": "ipython",
    "version": 3
   },
   "file_extension": ".py",
   "mimetype": "text/x-python",
   "name": "python",
   "nbconvert_exporter": "python",
   "pygments_lexer": "ipython3",
   "version": "3.12.3"
  }
 },
 "nbformat": 4,
 "nbformat_minor": 2
}
